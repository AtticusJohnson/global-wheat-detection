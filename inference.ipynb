{
 "cells": [
  {
   "cell_type": "markdown",
   "metadata": {},
   "source": [
    "# Global Wheat Detection - Inference\n",
    "\n",
    "You can get the training scripts [here](https://github.com/ufownl/global-wheat-detection).\n",
    "\n",
    "* YOLOv3 from [GluonCV](https://gluon-cv.mxnet.io/)\n",
    "* Use Darknet53 backbone"
   ]
  },
  {
   "cell_type": "markdown",
   "metadata": {},
   "source": [
    "## Dataset"
   ]
  },
  {
   "cell_type": "code",
   "execution_count": 1,
   "metadata": {
    "_cell_guid": "b1076dfc-b9ad-4769-8c92-a6c4dae69d19",
    "_uuid": "8f2839f25d086af736a60e9eeb907d3b93b6e0e5"
   },
   "outputs": [],
   "source": [
    "import mxnet as mx\n",
    "\n",
    "\n",
    "def load_image(path):\n",
    "    with open(path, \"rb\") as f:\n",
    "        buf = f.read()\n",
    "    return mx.image.imdecode(buf)\n"
   ]
  },
  {
   "cell_type": "markdown",
   "metadata": {},
   "source": [
    "## Model"
   ]
  },
  {
   "cell_type": "code",
   "execution_count": 2,
   "metadata": {},
   "outputs": [],
   "source": [
    "import mxnet as mx\n",
    "import gluoncv as gcv\n",
    "\n",
    "\n",
    "def load_model(path, ctx=mx.cpu()):\n",
    "    net = gcv.model_zoo.yolo3_darknet53_custom([\"wheat\"], pretrained_base=False)\n",
    "    net.set_nms(post_nms=150)\n",
    "    net.load_parameters(path, ctx=ctx)\n",
    "    return net\n"
   ]
  },
  {
   "cell_type": "code",
   "execution_count": 3,
   "metadata": {},
   "outputs": [
    {
     "name": "stdout",
     "output_type": "stream",
     "text": [
      "-rw-r--r-- 1 nobody nogroup 236M May 11 15:26 /kaggle/input/global-wheat-detection-models/global-wheat-yolo3-darknet53.params\r\n"
     ]
    }
   ],
   "source": [
    "!ls -lh /kaggle/input/global-wheat-detection-models/global-wheat-yolo3-darknet53.params"
   ]
  },
  {
   "cell_type": "markdown",
   "metadata": {},
   "source": [
    "## Inference"
   ]
  },
  {
   "cell_type": "code",
   "execution_count": 4,
   "metadata": {},
   "outputs": [
    {
     "name": "stdout",
     "output_type": "stream",
     "text": [
      "Loading model...\n",
      "/kaggle/input/global-wheat-detection/test/51b3e36ab.jpg\n",
      "/kaggle/input/global-wheat-detection/test/51f1be19e.jpg\n",
      "/kaggle/input/global-wheat-detection/test/cc3532ff6.jpg\n",
      "/kaggle/input/global-wheat-detection/test/348a992bb.jpg\n",
      "/kaggle/input/global-wheat-detection/test/53f253011.jpg\n",
      "/kaggle/input/global-wheat-detection/test/aac893a91.jpg\n",
      "/kaggle/input/global-wheat-detection/test/2fd875eaa.jpg\n",
      "/kaggle/input/global-wheat-detection/test/796707dd7.jpg\n",
      "/kaggle/input/global-wheat-detection/test/f5a1f0358.jpg\n",
      "/kaggle/input/global-wheat-detection/test/cb8d261a3.jpg\n"
     ]
    }
   ],
   "source": [
    "import os\n",
    "import mxnet as mx\n",
    "import pandas as pd\n",
    "import gluoncv as gcv\n",
    "\n",
    "images = [\n",
    "    (os.path.join(dirname, filename), os.path.splitext(filename)[0])\n",
    "        for dirname, _, filenames in os.walk('/kaggle/input/global-wheat-detection/test') for filename in filenames\n",
    "]\n",
    "threshold = 0.2\n",
    "img_s = 512\n",
    "context = mx.cpu()\n",
    "results = []\n",
    "\n",
    "print(\"Loading model...\")\n",
    "model = load_model(\"/kaggle/input/global-wheat-detection-models/global-wheat-yolo3-darknet53.params\", ctx=context)\n",
    "for path, image_id in images:\n",
    "    print(path)\n",
    "    raw = load_image(path)\n",
    "    x, _ = gcv.data.transforms.presets.yolo.transform_test(raw, short=img_s)\n",
    "    classes, scores, bboxes = model(x.as_in_context(context))\n",
    "    bboxes[0, :, 0::2] = bboxes[0, :, 0::2] / x.shape[3] * raw.shape[1]\n",
    "    bboxes[0, :, 1::2] = bboxes[0, :, 1::2] / x.shape[2] * raw.shape[0]\n",
    "    bboxes[0, :, 2:4] -= bboxes[0, :, 0:2]\n",
    "    results.append({\n",
    "        \"image_id\": image_id,\n",
    "        \"PredictionString\": \" \".join([\n",
    "            \" \".join([str(x) for x in [scores[0, i].asscalar()] + [round(x) for x in bboxes[0, i].asnumpy().tolist()]])\n",
    "                for i in range(classes.shape[1])\n",
    "                    if model.classes[int(classes[0, i].asscalar())] == \"wheat\" and scores[0, i].asscalar() > threshold\n",
    "        ])\n",
    "    })\n",
    "    \n",
    "pd.DataFrame(results, columns=['image_id', 'PredictionString']).to_csv('submission.csv', index=False)\n"
   ]
  }
 ],
 "metadata": {
  "kernelspec": {
   "display_name": "Python 3",
   "language": "python",
   "name": "python3"
  },
  "language_info": {
   "codemirror_mode": {
    "name": "ipython",
    "version": 3
   },
   "file_extension": ".py",
   "mimetype": "text/x-python",
   "name": "python",
   "nbconvert_exporter": "python",
   "pygments_lexer": "ipython3",
   "version": "3.7.6"
  }
 },
 "nbformat": 4,
 "nbformat_minor": 4
}
